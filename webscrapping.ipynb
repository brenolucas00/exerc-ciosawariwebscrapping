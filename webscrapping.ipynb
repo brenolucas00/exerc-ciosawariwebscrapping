{
 "cells": [
  {
   "cell_type": "code",
   "execution_count": 382,
   "metadata": {},
   "outputs": [
    {
     "name": "stdout",
     "output_type": "stream",
     "text": [
      "Requirement already satisfied: selenium==3.141.0 in c:\\users\\usuario\\anaconda3\\lib\\site-packages (3.141.0)\n",
      "Requirement already satisfied: urllib3 in c:\\users\\usuario\\anaconda3\\lib\\site-packages (from selenium==3.141.0) (1.26.9)\n",
      "Note: you may need to restart the kernel to use updated packages.\n"
     ]
    }
   ],
   "source": [
    "pip install selenium==3.141.0"
   ]
  },
  {
   "cell_type": "code",
   "execution_count": 3,
   "metadata": {},
   "outputs": [],
   "source": [
    "from selenium import webdriver"
   ]
  },
  {
   "cell_type": "code",
   "execution_count": 4,
   "metadata": {},
   "outputs": [],
   "source": [
    "driver = webdriver.Chrome()"
   ]
  },
  {
   "cell_type": "code",
   "execution_count": 5,
   "metadata": {},
   "outputs": [],
   "source": [
    "driver.get('http://google.com')"
   ]
  },
  {
   "cell_type": "code",
   "execution_count": 6,
   "metadata": {},
   "outputs": [],
   "source": [
    "bp = '/html/body/div[1]/div[3]/form/div[1]/div[1]/div[1]/div/div[2]/input'"
   ]
  },
  {
   "cell_type": "code",
   "execution_count": 7,
   "metadata": {},
   "outputs": [],
   "source": [
    "elebp = driver.find_element_by_xpath(bp)"
   ]
  },
  {
   "cell_type": "code",
   "execution_count": 8,
   "metadata": {},
   "outputs": [],
   "source": [
    "elebp.send_keys('vagas em ciencia de dados\\n')"
   ]
  },
  {
   "cell_type": "code",
   "execution_count": 43,
   "metadata": {},
   "outputs": [
    {
     "data": {
      "text/plain": [
       "[<selenium.webdriver.remote.webelement.WebElement (session=\"2580d63b2f5885d07d55c321c27a4661\", element=\"c9d2b2e3-4304-43c2-9262-8f18ce8525c1\")>]"
      ]
     },
     "execution_count": 43,
     "metadata": {},
     "output_type": "execute_result"
    }
   ],
   "source": [
    "driver.find_elements_by_class_name('description')"
   ]
  },
  {
   "cell_type": "code",
   "execution_count": 40,
   "metadata": {},
   "outputs": [],
   "source": [
    "descricao1 = driver.find_element_by_class_name('description')"
   ]
  },
  {
   "cell_type": "code",
   "execution_count": 19,
   "metadata": {},
   "outputs": [
    {
     "data": {
      "text/plain": [
       "[<selenium.webdriver.remote.webelement.WebElement (session=\"2580d63b2f5885d07d55c321c27a4661\", element=\"c8397614-61b8-4d5a-9837-04ea8d8531f0\")>,\n",
       " <selenium.webdriver.remote.webelement.WebElement (session=\"2580d63b2f5885d07d55c321c27a4661\", element=\"74c2190e-c437-405d-b654-17935bd0be34\")>,\n",
       " <selenium.webdriver.remote.webelement.WebElement (session=\"2580d63b2f5885d07d55c321c27a4661\", element=\"da4c4823-f247-4903-9afd-e2f7ebf1fd09\")>,\n",
       " <selenium.webdriver.remote.webelement.WebElement (session=\"2580d63b2f5885d07d55c321c27a4661\", element=\"2f6dc5c0-cf40-46f6-8cf1-33a33e367b83\")>,\n",
       " <selenium.webdriver.remote.webelement.WebElement (session=\"2580d63b2f5885d07d55c321c27a4661\", element=\"b3addd79-b6e7-4e11-8256-e53f61ef7aaa\")>,\n",
       " <selenium.webdriver.remote.webelement.WebElement (session=\"2580d63b2f5885d07d55c321c27a4661\", element=\"0a7299d6-c8da-41c0-ade3-846355ec8b61\")>,\n",
       " <selenium.webdriver.remote.webelement.WebElement (session=\"2580d63b2f5885d07d55c321c27a4661\", element=\"14ed0d83-bcc6-4091-8e00-5ba65b857a99\")>,\n",
       " <selenium.webdriver.remote.webelement.WebElement (session=\"2580d63b2f5885d07d55c321c27a4661\", element=\"667982d3-3d6e-49dd-94e0-113ce84ae054\")>,\n",
       " <selenium.webdriver.remote.webelement.WebElement (session=\"2580d63b2f5885d07d55c321c27a4661\", element=\"379ca5fc-b2c7-44b8-bf1a-cb79c24bd23c\")>,\n",
       " <selenium.webdriver.remote.webelement.WebElement (session=\"2580d63b2f5885d07d55c321c27a4661\", element=\"48685385-a2ba-4fe8-b991-0f7a12c5bfa8\")>,\n",
       " <selenium.webdriver.remote.webelement.WebElement (session=\"2580d63b2f5885d07d55c321c27a4661\", element=\"45d70c48-d8c5-43c1-9a94-b8e171ace137\")>,\n",
       " <selenium.webdriver.remote.webelement.WebElement (session=\"2580d63b2f5885d07d55c321c27a4661\", element=\"e7235192-e140-4089-8fe4-a080d2352fc6\")>,\n",
       " <selenium.webdriver.remote.webelement.WebElement (session=\"2580d63b2f5885d07d55c321c27a4661\", element=\"51a45705-2d20-4d7d-b0a7-ee27f6ec67cb\")>,\n",
       " <selenium.webdriver.remote.webelement.WebElement (session=\"2580d63b2f5885d07d55c321c27a4661\", element=\"bde19664-70a7-4940-a3fe-c7ecc4ae1b98\")>,\n",
       " <selenium.webdriver.remote.webelement.WebElement (session=\"2580d63b2f5885d07d55c321c27a4661\", element=\"90efbe1c-75f2-4193-b241-9f28948b5d69\")>,\n",
       " <selenium.webdriver.remote.webelement.WebElement (session=\"2580d63b2f5885d07d55c321c27a4661\", element=\"b251df52-971e-4317-862e-bdd53e5a85ac\")>,\n",
       " <selenium.webdriver.remote.webelement.WebElement (session=\"2580d63b2f5885d07d55c321c27a4661\", element=\"9991e556-7c9f-4e64-8eb1-afe623dc529e\")>,\n",
       " <selenium.webdriver.remote.webelement.WebElement (session=\"2580d63b2f5885d07d55c321c27a4661\", element=\"eb75eee3-4db4-445e-b219-6d4646852bd5\")>,\n",
       " <selenium.webdriver.remote.webelement.WebElement (session=\"2580d63b2f5885d07d55c321c27a4661\", element=\"92dc03ef-1171-404d-8c38-c10dd547e738\")>,\n",
       " <selenium.webdriver.remote.webelement.WebElement (session=\"2580d63b2f5885d07d55c321c27a4661\", element=\"825fbb94-a824-4b52-a9dc-24929c1ce865\")>,\n",
       " <selenium.webdriver.remote.webelement.WebElement (session=\"2580d63b2f5885d07d55c321c27a4661\", element=\"57b071bb-e243-4805-9b19-ed048271fc05\")>,\n",
       " <selenium.webdriver.remote.webelement.WebElement (session=\"2580d63b2f5885d07d55c321c27a4661\", element=\"df03bf3f-f078-4ade-9135-7a5fedd547a6\")>,\n",
       " <selenium.webdriver.remote.webelement.WebElement (session=\"2580d63b2f5885d07d55c321c27a4661\", element=\"3d72849c-b044-405c-ad4f-667fedd5f8b1\")>,\n",
       " <selenium.webdriver.remote.webelement.WebElement (session=\"2580d63b2f5885d07d55c321c27a4661\", element=\"a7fb82fb-55af-46d0-ad59-abe038f37427\")>,\n",
       " <selenium.webdriver.remote.webelement.WebElement (session=\"2580d63b2f5885d07d55c321c27a4661\", element=\"91775170-181c-4162-813c-8b73cc21a018\")>,\n",
       " <selenium.webdriver.remote.webelement.WebElement (session=\"2580d63b2f5885d07d55c321c27a4661\", element=\"82b991de-50c8-49aa-b109-1a4a4cbdeb12\")>,\n",
       " <selenium.webdriver.remote.webelement.WebElement (session=\"2580d63b2f5885d07d55c321c27a4661\", element=\"4c4e5e3d-aa69-457a-b145-c012e845ec40\")>,\n",
       " <selenium.webdriver.remote.webelement.WebElement (session=\"2580d63b2f5885d07d55c321c27a4661\", element=\"c9653d60-9872-4a6a-99b7-e270772331d7\")>,\n",
       " <selenium.webdriver.remote.webelement.WebElement (session=\"2580d63b2f5885d07d55c321c27a4661\", element=\"5b92a565-fe73-4006-9ace-469bbccf7842\")>,\n",
       " <selenium.webdriver.remote.webelement.WebElement (session=\"2580d63b2f5885d07d55c321c27a4661\", element=\"72ab615f-2213-4c18-895c-fddb0bfa8615\")>,\n",
       " <selenium.webdriver.remote.webelement.WebElement (session=\"2580d63b2f5885d07d55c321c27a4661\", element=\"90122adb-de93-4eac-8574-8b9bf744a93a\")>,\n",
       " <selenium.webdriver.remote.webelement.WebElement (session=\"2580d63b2f5885d07d55c321c27a4661\", element=\"66255b68-06e6-4b3b-a2b8-cdb8aeb67a9a\")>,\n",
       " <selenium.webdriver.remote.webelement.WebElement (session=\"2580d63b2f5885d07d55c321c27a4661\", element=\"24992abf-f525-4822-906b-b9c00ef4408f\")>,\n",
       " <selenium.webdriver.remote.webelement.WebElement (session=\"2580d63b2f5885d07d55c321c27a4661\", element=\"8d803e96-316a-4a9c-9d65-070f0172a7fb\")>,\n",
       " <selenium.webdriver.remote.webelement.WebElement (session=\"2580d63b2f5885d07d55c321c27a4661\", element=\"ee6ef3ef-127d-42e7-99c0-e198a3520f6d\")>,\n",
       " <selenium.webdriver.remote.webelement.WebElement (session=\"2580d63b2f5885d07d55c321c27a4661\", element=\"9eb3d0eb-df4e-44eb-ad29-7794abd8c267\")>,\n",
       " <selenium.webdriver.remote.webelement.WebElement (session=\"2580d63b2f5885d07d55c321c27a4661\", element=\"49505da2-5b7a-4dd3-8eaa-9739114637f2\")>]"
      ]
     },
     "execution_count": 19,
     "metadata": {},
     "output_type": "execute_result"
    }
   ],
   "source": [
    "driver.find_elements_by_class_name('base-card')"
   ]
  },
  {
   "cell_type": "code",
   "execution_count": 44,
   "metadata": {},
   "outputs": [],
   "source": [
    "resultados = driver.find_elements_by_class_name('base-card')"
   ]
  },
  {
   "cell_type": "code",
   "execution_count": 45,
   "metadata": {},
   "outputs": [
    {
     "data": {
      "text/plain": [
       "25"
      ]
     },
     "execution_count": 45,
     "metadata": {},
     "output_type": "execute_result"
    }
   ],
   "source": [
    "len (resultados)"
   ]
  },
  {
   "cell_type": "code",
   "execution_count": 46,
   "metadata": {},
   "outputs": [
    {
     "data": {
      "text/plain": [
       "<selenium.webdriver.remote.webelement.WebElement (session=\"2580d63b2f5885d07d55c321c27a4661\", element=\"59330d77-0666-418d-80be-a0192daa609a\")>"
      ]
     },
     "execution_count": 46,
     "metadata": {},
     "output_type": "execute_result"
    }
   ],
   "source": [
    "resultados[0]"
   ]
  },
  {
   "cell_type": "code",
   "execution_count": 47,
   "metadata": {},
   "outputs": [],
   "source": [
    "resultados[1].click()"
   ]
  },
  {
   "cell_type": "code",
   "execution_count": 48,
   "metadata": {},
   "outputs": [],
   "source": [
    "for r in resultados:\n",
    "    r.click()"
   ]
  },
  {
   "cell_type": "code",
   "execution_count": 51,
   "metadata": {},
   "outputs": [
    {
     "name": "stdout",
     "output_type": "stream",
     "text": [
      "JOB DESCRIPTION\n",
      "\n",
      "O PicPay é uma plataforma de pagamento criada para quebrar barreiras e eliminar burocracias. Nós existimos para melhorar a vida das pessoas e só conseguimos fazer isso porque temos pessoas fantásticas aqui dentro. O que você vai fazer por aqui? Buscamos pessoas que sejam apaixonadas por construir aplicações inteligentes, distribuídas e de alta performance para milhões de novos usuários em todo o Brasil.\n",
      "\n",
      "\n",
      "\n",
      "\n",
      "\n",
      "\n",
      "\n",
      "Nossa missão é deixar a vida das pessoas mais fácil todos os dias, e você pode fazer parte disso! 🚀\n",
      "\n",
      "Fundado em Vitória (ES) em 2012, o PicPay é uma empresa de tecnologia que nasceu para tornar a vida financeira mais fácil ao reinventar a forma como as pessoas lidam com dinheiro, fazem compras e se comunicam. Em 2015, a empresa foi investida pelo grupo J&F, um dos maiores conglomerados empresariais do Brasil.\n",
      "\n",
      "Atualmente, com 60 milhões de usuários, o PicPay busca oferecer produtos e serviços para todos os momentos do dia a dia dos clientes, combinando os benefícios de cinco frentes em uma única plataforma: social, carteira digital, marketplace financeiro, PicPay Store e anúncios.\n",
      "\n",
      "\n",
      "\n",
      "Nossos valores, são nossos guias para tomada de decisões. São eles: Atitude de Dono, Disciplina, Determinação, Disponibilidade, Simplicidade, Humildade e Franqueza.\n",
      "\n",
      "\n",
      "\n",
      "Somos uma equipe diversa conectada pelos mesmos valores, e para cumprirmos essa missão, acreditamos que a diversidade é fundamental nessa jornada. O respeito, a ética, a busca pela equidade e a valorização da pluralidade são elementos inegociáveis e fazem parte da prática do nosso dia a dia aqui no PicPay.\n",
      "\n",
      "Nossos grupos de afinidades como o Afro (pessoas pretas), Inclui (pessoas com deficiência), Pride (LGBTQIA+) e Elas Que Lutem Juntas (mulheres), desenvolvem projetos e treinamentos recorrentes, além de ações estruturantes para que nosso ambiente tenha mais segurança e inclusão.\n",
      "\n",
      "Por isso, nossas vagas estão abertas para todas as pessoas, independente de gênero, religião, etnia, deficiência, idade, orientação sexual ou qualquer outro fator.\n",
      "\n",
      "💚\n",
      "\n",
      "\n",
      "\n",
      "Além de Assistência Médica e Odontológica, oferecemos Seguro de Vida e o PicPay Acolhe, um programa que cuida de você e seus familiares, com apoio jurídico, social, psicológico e financeiro. E claro, não podemos esquecer da nossa parceria com a Gympass.\n",
      "\n",
      "Por meio de um cartão de crédito, bandeira Visa, você recebe seu saldo de Alimentação ou Refeição e Mobilidade, com a opção de escolher o melhor uso do seu saldo.\n",
      "\n",
      "Sabemos que esse é um momento especial para uma família, e por isso oferecemos Licença Maternidade estendida de 6 meses, e de Paternidade também estendida de 20 dias.\n",
      "\n",
      "PPR - Participação nos Resultados do PicPay.\n",
      "\n",
      "Quer conhecer mais um pouco e estar sempre conectado com o PicPay? Acompanhe nossas redes sociais. 🌎\n",
      "Exibir mais\n",
      "Nível de experiência\n",
      "Assistente\n",
      "Tipo de emprego\n",
      "Tempo integral\n",
      "Função\n",
      "Engenharia e Tecnologia da informação\n",
      "Setores\n",
      "Serviços financeiros\n",
      "Responsabilidades: Suportar, por meio de análise de dados, os objetivos de excelência operacional: construção de sistemas de análises das medições, análise de dados, análise estatística da performance de manufatura. Comparar estatisticamente diferentes processos e performances entre diferentes sites de produção e escalas (escala piloto x escala industrial). Conectar resultados/dados de escala de bancada (durante o desenvolvimento de processos) com dados de manufatura (escala industrial), objetivando direcionar ações que permitam o atingimento das metas de performance. Desenvolver algoritmos que avaliem em profundidade potenciais problemas e oportunidades de melhoria em diferentes processos produtivos.\n",
      "\n",
      "\n",
      "\n",
      "\n",
      "\n",
      "Não informado\n",
      "\n",
      "\n",
      "\n",
      "\n",
      "\n",
      "A combinar\n",
      "\n",
      "\n",
      "\n",
      "Analista de banco de dados\n",
      "\n",
      "\n",
      "\n",
      "Amyris Biotecnologia\n",
      "\n",
      "Empresa atua no ramo de biotecnologia.\n",
      "\n",
      "\n",
      "\n",
      "Químico/ Farmacêutico\n",
      "Exibir mais\n",
      "Nível de experiência\n",
      "Assistente\n",
      "Tipo de emprego\n",
      "Tempo integral\n",
      "Função\n",
      "Engenharia e Tecnologia da informação\n",
      "Setores\n",
      "Fabricação de produtos químicos e Fabricação de produtos farmacêuticos\n",
      "Desafios Da Área\n",
      "\n",
      "Implementar e validar modelos preditivos; Criar modelos estatísticos com foco em Big Data; Desenvolvimento de modelos em Machine Learning (ML), utilizando técnicas como Regressão, Classificação, Redes Neuraise Deep Learning; Compreender e trabalhar com processo de ETL; Realizar testes de qualidade sobre os dados; Responsável, com foco nas entregas dos projetos e prazos acordados.\n",
      "\n",
      "Aliar a elaboração de modelos estatísticos complexos a problemas específicos de negócio, garantindo índices cada vez maiores de aprovações automáticas de baixíssimo risco;\n",
      "\n",
      "Aliar alta qualidade de projetos de modelos com rápida entrega, atendendo as demandas e especificidades de cada segmento;\n",
      "\n",
      "\n",
      "\n",
      "Atualizar-se constantemente em relação a novas práticas para combate a fraudes e tecnologias de análise de dados.\n",
      "\n",
      "Ter alguma experiência em desenvolvimento de algoritmos;\n",
      "\n",
      "Bons conhecimentos em Python (ou R) e SQL;\n",
      "\n",
      "Prática em otimização, padronização e versionamento de códigos GIT.\n",
      "\n",
      "Superior completo.\n",
      "\n",
      "Python;\n",
      "\n",
      "SQL;\n",
      "\n",
      "Java;\n",
      "\n",
      "Excel avançado\n",
      "\n",
      "Proficiência no uso de bibliotecas Python e R.\n",
      "\n",
      "Inglês avançado desejável;\n",
      "\n",
      "Diferencial ter conhecimentos sólidos em matemática e estatística.\n",
      "\n",
      "Prática em otimização, padronização e versionamento de códigos GIT.\n",
      "\n",
      "Superior completo.\n",
      "\n",
      "Conhecimentos em ambiente em Cloud AWS/Google Cloud\n",
      "Exibir mais\n",
      "Nível de experiência\n",
      "Assistente\n",
      "Tipo de emprego\n",
      "Tempo integral\n",
      "Função\n",
      "Engenharia e Tecnologia da informação\n",
      "Setores\n",
      "Segurança de redes e computadores\n",
      "Venha fazer parte do nosso time!\n",
      "\n",
      "Aqui na IOB a inovação faz parte do nosso core, precisamos de pessoas que queiram revolucionar o mercado corporativo com criatividade.\n",
      "\n",
      "\n",
      "\n",
      "\n",
      "\n",
      "\n",
      "\n",
      "\n",
      "Exibir mais\n",
      "Nível de experiência\n",
      "Não aplicável\n",
      "Tipo de emprego\n",
      "Tempo integral\n",
      "Função\n",
      "Outro e Tecnologia da informação\n",
      "Setores\n",
      "Desenvolvimento de software\n",
      "O que vamos construir juntos?\n",
      "\n",
      "A área Políticas de Riscos de Fianças, desenvolve estratégias e políticas de aceitação de clientes para fiança locatícia (clientes que desejam alugar um imóvel, mas não possuem fiador).\n",
      "\n",
      "Nos ajude a desenhar a solução!\n",
      "\n",
      "Você que chegou até aqui, é por que gosta de desafios, desenvolvimento de soluções e a cultura baseada em dados e práticas de inovação. Se você busca um ambiente dinâmico, junto ao um time que respeita a diversidade e a riqueza que as pessoas trazem em suas experiências, venha ser um #PortoLover 🚀\n",
      "\n",
      "O que você precisa para fazer parte deste time:\n",
      "\n",
      "Seus principais desafios serão:\n",
      "\n",
      "Nossos benefícios:\n",
      "Exibir mais\n",
      "Nível de experiência\n",
      "Não aplicável\n",
      "Tipo de emprego\n",
      "Tempo integral\n",
      "Função\n",
      "Engenharia e Tecnologia da informação\n",
      "Setores\n",
      "Seguros\n",
      "Enviar mensagem direta ao anunciante da vaga na The AI Academy\n",
      "Mario César Machado\n",
      "B2B Strategic Partnerships Manager\n",
      "A The AI Academy é uma startup sediada no Brasil com a missão de ajudar grandes empresas em sua jornada de transformação e adoção de Data Science e Inteligência Artificial em escala. Visite www.the-ai-academy.com.\n",
      "Temos uma oportunidade em nosso time para Machine Learning Engineer. Esta é uma função estratégica, onde você trabalhará em estreita colaboração junto a nossos clientes, sendo responsável pelo design, planejamento e implementação de iniciativas que utilizam Ciência de Dados e IA.\n",
      "\n",
      "\n",
      "\n",
      "Exibir mais\n",
      "Tipo de emprego\n",
      "Tempo integral\n",
      "\n",
      "\n",
      "\n",
      "\n",
      "\n",
      "\n",
      "\n",
      "\n",
      "\n",
      "\n",
      "\n",
      "Sobre a Bip\n",
      "\n",
      "O nosso propósito é provocar transformações significativas desafiando o status quo constantemente. Somos uma consultoria internacional, jovem, fundada na Itália em 2003 com um ecossistema em evolução que proporciona uma transformação significativa devido à sua abordagem personalizada, atitude de criador único e espírito pioneiro em um mundo de constante mudanças. Somos visionários e sonhadores, olhando as coisas por diferentes pontos de vista, almejando descobrir novas metodologias e processos que solucionam a complexidade do mundo atual causando impacto positivo.\n",
      "\n",
      "Com capilaridade global, possuímos mais de 5.000 funcionários, com escritórios em 12 países e em 4 continentes, com projetos correntes em mais de 40 países. No Brasil estamos presentes com escritórios em São Paulo e no Rio de Janeiro desde 2010 suportando grandes empresas através de projetos estratégicos e de transformação e atuando principalmente nos setores de Energia, O&G, Utilities, Serviços Financeiros, Telecomunicações, Varejo, Bens de consumo, Serviços e Agronegócios. A melhor maneira de materializar a nossa forma de atuação é através do nosso “HERE TO DARE”.\n",
      "\n",
      "\n",
      "\n",
      "xTech é nosso Centro de Excelência em Ciência de Dados e Tecnologia. Somos mais de . Hoje a xTech é a . No Brasil, já somos mais de 30 Bipers focados na disciplina de dados (e crescendo). Somos parceiros da Microsoft e Google. Atuamos com os principais frameworks e provedores de serviços em cloud, como Azure, AWS e GCP.\n",
      "\n",
      "A cultura da BIP está intrinsecamente expressa em nossos 4 valores de Flexibilidade, Inovação, Excelência e Integridade.\n",
      "\n",
      "\n",
      "\n",
      "\n",
      "\n",
      "\n",
      "\n",
      "\n",
      "\n",
      "\n",
      "\n",
      "\n",
      "\n",
      "\n",
      "\n",
      "\n",
      "\n",
      "\n",
      "\n",
      "VT, Birthday off, Gympass, Licença Maternidade de 180 dias e Licença Paternidade de 30 dias, além de auxílio creche no primeiro ano do bebê.\n",
      "\n",
      "Academia BIP com Webinars e Treinamentos à distância. Programa de mentoria com acesso a diversos profissionais com diferentes perfis e conhecimentos.\n",
      "\n",
      "\n",
      "\n",
      "Exibir mais\n",
      "Nível de experiência\n",
      "Não aplicável\n",
      "Tipo de emprego\n",
      "Tempo integral\n",
      "Função\n",
      "Engenharia e Tecnologia da informação\n",
      "Setores\n",
      "Serviços e consultoria de TI\n",
      "\n",
      "\n",
      "\n",
      "\n",
      "\n",
      "\n",
      "\n"
     ]
    }
   ],
   "source": [
    "for r in resultados:\n",
    "    r.click()\n",
    "    descricao1 = driver.find_element_by_class_name('description')\n",
    "    print(descricao1.text)"
   ]
  },
  {
   "cell_type": "code",
   "execution_count": 54,
   "metadata": {},
   "outputs": [],
   "source": [
    "listadescricoes = []\n",
    "for r in resultados:\n",
    "    r.click()\n",
    "    descricao1 = driver.find_element_by_class_name('description')\n",
    "    listadescricoes.append(descricao1.text)"
   ]
  },
  {
   "cell_type": "code",
   "execution_count": 55,
   "metadata": {},
   "outputs": [
    {
     "data": {
      "text/plain": [
       "['JOB DESCRIPTION\\n\\nO PicPay é uma plataforma de pagamento criada para quebrar barreiras e eliminar burocracias. Nós existimos para melhorar a vida das pessoas e só conseguimos fazer isso porque temos pessoas fantásticas aqui dentro. O que você vai fazer por aqui? Buscamos pessoas que sejam apaixonadas por construir aplicações inteligentes, distribuídas e de alta performance para milhões de novos usuários em todo o Brasil.\\n\\n\\n\\n\\n\\n\\n\\nNossa missão é deixar a vida das pessoas mais fácil todos os dias, e você pode fazer parte disso! 🚀\\n\\nFundado em Vitória (ES) em 2012, o PicPay é uma empresa de tecnologia que nasceu para tornar a vida financeira mais fácil ao reinventar a forma como as pessoas lidam com dinheiro, fazem compras e se comunicam. Em 2015, a empresa foi investida pelo grupo J&F, um dos maiores conglomerados empresariais do Brasil.\\n\\nAtualmente, com 60 milhões de usuários, o PicPay busca oferecer produtos e serviços para todos os momentos do dia a dia dos clientes, combinando os benefícios de cinco frentes em uma única plataforma: social, carteira digital, marketplace financeiro, PicPay Store e anúncios.\\n\\n\\n\\nNossos valores, são nossos guias para tomada de decisões. São eles: Atitude de Dono, Disciplina, Determinação, Disponibilidade, Simplicidade, Humildade e Franqueza.\\n\\n\\n\\nSomos uma equipe diversa conectada pelos mesmos valores, e para cumprirmos essa missão, acreditamos que a diversidade é fundamental nessa jornada. O respeito, a ética, a busca pela equidade e a valorização da pluralidade são elementos inegociáveis e fazem parte da prática do nosso dia a dia aqui no PicPay.\\n\\nNossos grupos de afinidades como o Afro (pessoas pretas), Inclui (pessoas com deficiência), Pride (LGBTQIA+) e Elas Que Lutem Juntas (mulheres), desenvolvem projetos e treinamentos recorrentes, além de ações estruturantes para que nosso ambiente tenha mais segurança e inclusão.\\n\\nPor isso, nossas vagas estão abertas para todas as pessoas, independente de gênero, religião, etnia, deficiência, idade, orientação sexual ou qualquer outro fator.\\n\\n💚\\n\\n\\n\\nAlém de Assistência Médica e Odontológica, oferecemos Seguro de Vida e o PicPay Acolhe, um programa que cuida de você e seus familiares, com apoio jurídico, social, psicológico e financeiro. E claro, não podemos esquecer da nossa parceria com a Gympass.\\n\\nPor meio de um cartão de crédito, bandeira Visa, você recebe seu saldo de Alimentação ou Refeição e Mobilidade, com a opção de escolher o melhor uso do seu saldo.\\n\\nSabemos que esse é um momento especial para uma família, e por isso oferecemos Licença Maternidade estendida de 6 meses, e de Paternidade também estendida de 20 dias.\\n\\nPPR - Participação nos Resultados do PicPay.\\n\\nQuer conhecer mais um pouco e estar sempre conectado com o PicPay? Acompanhe nossas redes sociais. 🌎\\nExibir mais\\nNível de experiência\\nAssistente\\nTipo de emprego\\nTempo integral\\nFunção\\nEngenharia e Tecnologia da informação\\nSetores\\nServiços financeiros',\n",
       " 'Responsabilidades: Suportar, por meio de análise de dados, os objetivos de excelência operacional: construção de sistemas de análises das medições, análise de dados, análise estatística da performance de manufatura. Comparar estatisticamente diferentes processos e performances entre diferentes sites de produção e escalas (escala piloto x escala industrial). Conectar resultados/dados de escala de bancada (durante o desenvolvimento de processos) com dados de manufatura (escala industrial), objetivando direcionar ações que permitam o atingimento das metas de performance. Desenvolver algoritmos que avaliem em profundidade potenciais problemas e oportunidades de melhoria em diferentes processos produtivos.\\n\\n\\n\\n\\n\\nNão informado\\n\\n\\n\\n\\n\\nA combinar\\n\\n\\n\\nAnalista de banco de dados\\n\\n\\n\\nAmyris Biotecnologia\\n\\nEmpresa atua no ramo de biotecnologia.\\n\\n\\n\\nQuímico/ Farmacêutico\\nExibir mais\\nNível de experiência\\nAssistente\\nTipo de emprego\\nTempo integral\\nFunção\\nEngenharia e Tecnologia da informação\\nSetores\\nFabricação de produtos químicos e Fabricação de produtos farmacêuticos',\n",
       " 'Desafios Da Área\\n\\nImplementar e validar modelos preditivos; Criar modelos estatísticos com foco em Big Data; Desenvolvimento de modelos em Machine Learning (ML), utilizando técnicas como Regressão, Classificação, Redes Neuraise Deep Learning; Compreender e trabalhar com processo de ETL; Realizar testes de qualidade sobre os dados; Responsável, com foco nas entregas dos projetos e prazos acordados.\\n\\nAliar a elaboração de modelos estatísticos complexos a problemas específicos de negócio, garantindo índices cada vez maiores de aprovações automáticas de baixíssimo risco;\\n\\nAliar alta qualidade de projetos de modelos com rápida entrega, atendendo as demandas e especificidades de cada segmento;\\n\\n\\n\\nAtualizar-se constantemente em relação a novas práticas para combate a fraudes e tecnologias de análise de dados.\\n\\nTer alguma experiência em desenvolvimento de algoritmos;\\n\\nBons conhecimentos em Python (ou R) e SQL;\\n\\nPrática em otimização, padronização e versionamento de códigos GIT.\\n\\nSuperior completo.\\n\\nPython;\\n\\nSQL;\\n\\nJava;\\n\\nExcel avançado\\n\\nProficiência no uso de bibliotecas Python e R.\\n\\nInglês avançado desejável;\\n\\nDiferencial ter conhecimentos sólidos em matemática e estatística.\\n\\nPrática em otimização, padronização e versionamento de códigos GIT.\\n\\nSuperior completo.\\n\\nConhecimentos em ambiente em Cloud AWS/Google Cloud\\nExibir mais\\nNível de experiência\\nAssistente\\nTipo de emprego\\nTempo integral\\nFunção\\nEngenharia e Tecnologia da informação\\nSetores\\nSegurança de redes e computadores',\n",
       " 'Venha fazer parte do nosso time!\\n\\nAqui na IOB a inovação faz parte do nosso core, precisamos de pessoas que queiram revolucionar o mercado corporativo com criatividade.\\n\\n\\n\\n\\n\\n\\n\\n\\nExibir mais\\nNível de experiência\\nNão aplicável\\nTipo de emprego\\nTempo integral\\nFunção\\nOutro e Tecnologia da informação\\nSetores\\nDesenvolvimento de software',\n",
       " 'O que vamos construir juntos?\\n\\nA área Políticas de Riscos de Fianças, desenvolve estratégias e políticas de aceitação de clientes para fiança locatícia (clientes que desejam alugar um imóvel, mas não possuem fiador).\\n\\nNos ajude a desenhar a solução!\\n\\nVocê que chegou até aqui, é por que gosta de desafios, desenvolvimento de soluções e a cultura baseada em dados e práticas de inovação. Se você busca um ambiente dinâmico, junto ao um time que respeita a diversidade e a riqueza que as pessoas trazem em suas experiências, venha ser um #PortoLover 🚀\\n\\nO que você precisa para fazer parte deste time:\\n\\nSeus principais desafios serão:\\n\\nNossos benefícios:\\nExibir mais\\nNível de experiência\\nNão aplicável\\nTipo de emprego\\nTempo integral\\nFunção\\nEngenharia e Tecnologia da informação\\nSetores\\nSeguros',\n",
       " 'Enviar mensagem direta ao anunciante da vaga na The AI Academy\\nMario César Machado\\nB2B Strategic Partnerships Manager\\nA The AI Academy é uma startup sediada no Brasil com a missão de ajudar grandes empresas em sua jornada de transformação e adoção de Data Science e Inteligência Artificial em escala. Visite www.the-ai-academy.com.\\nTemos uma oportunidade em nosso time para Machine Learning Engineer. Esta é uma função estratégica, onde você trabalhará em estreita colaboração junto a nossos clientes, sendo responsável pelo design, planejamento e implementação de iniciativas que utilizam Ciência de Dados e IA.\\n\\n\\n\\nExibir mais\\nTipo de emprego\\nTempo integral',\n",
       " 'Você usará os dados de maneira criativa para resolver os desafios dos negócios, muitas vezes revelando oportunidades novas e transformadoras ao longo do caminho.\\n\\nVocê terá a oportunidade de participar da transformação digital do Grupo Trigo, tendo interface com diversas áreas e contato direto com o corpo diretor da empresa.\\n\\n\\n\\n\\n\\n\\n\\n\\n\\nBuscamos um solucionador de problemas, formado em ciência da computação, engenharia, física, estatística, matemática ou áreas relacionadas.\\n\\n\\n\\nBenefícios: Remuneração (R$ 4.853,05) + Vale Transporte (Desc. R$ 1,00) + Vale Refeição / Vale Alimentação (R$28,50/dia) + GymPass + Plano de Saúde Amil + Plano Odontológico Amil + Vittude + PLR + Day Off de Aniversário + Trilha de Carreira!!\\nExibir mais\\nNível de experiência\\nNão aplicável\\nTipo de emprego\\nTempo integral\\nFunção\\nEngenharia e Tecnologia da informação\\nSetores\\nVarejo',\n",
       " 'Enviar mensagem direta ao anunciante da vaga na Prime IT Solutions\\nRafaela Souza\\nTech Recruiter na Prime IT Solutions\\nA PRIME está em crescimento, o que significa um grande potencial de ganho para você!\\nTemos como Propósito Transformador: \"Aprimorar os resultados dos clientes com soluções adequadas em conjunto com o desenvolvimento profissional e pessoal dos nossos colaboradores, num relacionamento ganha-ganha\".\\n\\n\\n\\n\\n\\n\\n\\n\\n\\nExibir mais\\nNível de experiência\\nPleno-sênior\\nTipo de emprego\\nTempo integral\\nFunção\\nTecnologia da informação\\nSetores\\nServiços e consultoria de TI',\n",
       " '',\n",
       " '',\n",
       " '',\n",
       " '',\n",
       " '',\n",
       " '',\n",
       " '',\n",
       " 'Procuramos um profissional de Data Science para trabalhar em projetos aplicados a negócios de Fintech (transações financeiras e cartões) com um grande volume de dados. Buscamos uma pessoas apaixonada por desafios na área de analytics, principalmente os que envolvem estatísticas e machine learning. Se você se identificou, essa vaga é para você!\\n\\n\\n\\n\\n\\n\\n\\n\\n\\n\\n\\n\\n\\n\\n\\n\\n\\n\\n\\n\\n\\n\\n\\n\\n\\n\\nExibir mais\\nNível de experiência\\nNão aplicável\\nTipo de emprego\\nTempo integral\\nFunção\\nTecnologia da informação\\nSetores\\nServiços e consultoria de TI',\n",
       " '',\n",
       " 'Sobre a Bip\\n\\nO nosso propósito é provocar transformações significativas desafiando o status quo constantemente. Somos uma consultoria internacional, jovem, fundada na Itália em 2003 com um ecossistema em evolução que proporciona uma transformação significativa devido à sua abordagem personalizada, atitude de criador único e espírito pioneiro em um mundo de constante mudanças. Somos visionários e sonhadores, olhando as coisas por diferentes pontos de vista, almejando descobrir novas metodologias e processos que solucionam a complexidade do mundo atual causando impacto positivo.\\n\\nCom capilaridade global, possuímos mais de 5.000 funcionários, com escritórios em 12 países e em 4 continentes, com projetos correntes em mais de 40 países. No Brasil estamos presentes com escritórios em São Paulo e no Rio de Janeiro desde 2010 suportando grandes empresas através de projetos estratégicos e de transformação e atuando principalmente nos setores de Energia, O&G, Utilities, Serviços Financeiros, Telecomunicações, Varejo, Bens de consumo, Serviços e Agronegócios. A melhor maneira de materializar a nossa forma de atuação é através do nosso “HERE TO DARE”.\\n\\n\\n\\nxTech é nosso Centro de Excelência em Ciência de Dados e Tecnologia. Somos mais de . Hoje a xTech é a . No Brasil, já somos mais de 30 Bipers focados na disciplina de dados (e crescendo). Somos parceiros da Microsoft e Google. Atuamos com os principais frameworks e provedores de serviços em cloud, como Azure, AWS e GCP.\\n\\nA cultura da BIP está intrinsecamente expressa em nossos 4 valores de Flexibilidade, Inovação, Excelência e Integridade.\\n\\n\\n\\n\\n\\n\\n\\n\\n\\n\\n\\n\\n\\n\\n\\n\\n\\n\\n\\nVT, Birthday off, Gympass, Licença Maternidade de 180 dias e Licença Paternidade de 30 dias, além de auxílio creche no primeiro ano do bebê.\\n\\nAcademia BIP com Webinars e Treinamentos à distância. Programa de mentoria com acesso a diversos profissionais com diferentes perfis e conhecimentos.\\n\\n\\n\\nExibir mais\\nNível de experiência\\nNão aplicável\\nTipo de emprego\\nTempo integral\\nFunção\\nEngenharia e Tecnologia da informação\\nSetores\\nServiços e consultoria de TI',\n",
       " '',\n",
       " '',\n",
       " '',\n",
       " '',\n",
       " '',\n",
       " '',\n",
       " '']"
      ]
     },
     "execution_count": 55,
     "metadata": {},
     "output_type": "execute_result"
    }
   ],
   "source": [
    "listadescricoes"
   ]
  },
  {
   "cell_type": "code",
   "execution_count": null,
   "metadata": {},
   "outputs": [],
   "source": []
  }
 ],
 "metadata": {
  "kernelspec": {
   "display_name": "Python 3.9.12 ('base')",
   "language": "python",
   "name": "python3"
  },
  "language_info": {
   "codemirror_mode": {
    "name": "ipython",
    "version": 3
   },
   "file_extension": ".py",
   "mimetype": "text/x-python",
   "name": "python",
   "nbconvert_exporter": "python",
   "pygments_lexer": "ipython3",
   "version": "3.9.12"
  },
  "orig_nbformat": 4,
  "vscode": {
   "interpreter": {
    "hash": "e06ff7da33dc9620448857a90ad8b5f428f0d573d205a934d2841c8aee45ea32"
   }
  }
 },
 "nbformat": 4,
 "nbformat_minor": 2
}
